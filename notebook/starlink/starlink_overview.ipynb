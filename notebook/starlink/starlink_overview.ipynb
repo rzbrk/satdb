{
 "cells": [
  {
   "cell_type": "code",
   "execution_count": 2,
   "metadata": {},
   "outputs": [],
   "source": [
    "import matplotlib.pyplot as plt\n",
    "%matplotlib inline\n",
    "%matplotlib notebook\n",
    "#from tqdm.notebook import trange, tqdm\n",
    "\n",
    "#from datetime import datetime\n",
    "#import re\n",
    "\n",
    "#import pandas as pd\n",
    "\n",
    "from satdb import DBConfig, Dbase, tools"
   ]
  },
  {
   "cell_type": "code",
   "execution_count": 3,
   "metadata": {},
   "outputs": [],
   "source": [
    "## Config file\n",
    "config_file = \"../satdb.yaml\"\n",
    "\n",
    "## Filter for the satellite constellation\n",
    "sat_const_filter = \"STARLINK%\"\n",
    "\n",
    "## Define the matplotlib figure size\n",
    "plt.rcParams[\"figure.figsize\"] = (10,7)\n",
    "\n",
    "## Earth radius [km]\n",
    "mrad = 6378.137"
   ]
  },
  {
   "cell_type": "code",
   "execution_count": 4,
   "metadata": {},
   "outputs": [],
   "source": [
    "config = DBConfig(config_file)\n",
    "dbc = Dbase(config)\n",
    "dbc.connect()"
   ]
  },
  {
   "cell_type": "code",
   "execution_count": null,
   "metadata": {},
   "outputs": [],
   "source": [
    "sql = \"\"\"\n",
    "\n",
    "\"\"\""
   ]
  }
 ],
 "metadata": {
  "kernelspec": {
   "display_name": "Python 3",
   "language": "python",
   "name": "python3"
  },
  "language_info": {
   "codemirror_mode": {
    "name": "ipython",
    "version": 3
   },
   "file_extension": ".py",
   "mimetype": "text/x-python",
   "name": "python",
   "nbconvert_exporter": "python",
   "pygments_lexer": "ipython3",
   "version": "3.9.5"
  }
 },
 "nbformat": 4,
 "nbformat_minor": 4
}
